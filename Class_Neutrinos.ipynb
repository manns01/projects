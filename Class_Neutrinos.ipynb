{
  "cells": [
    {
      "cell_type": "markdown",
      "metadata": {
        "id": "view-in-github",
        "colab_type": "text"
      },
      "source": [
        "<a href=\"https://colab.research.google.com/github/manns01/projects/blob/main/Class_Neutrinos.ipynb\" target=\"_parent\"><img src=\"https://colab.research.google.com/assets/colab-badge.svg\" alt=\"Open In Colab\"/></a>"
      ]
    },
    {
      "cell_type": "markdown",
      "source": [
        "In this notebook, we will work out the effect of neutrinos on the main cosmological observables, the BAO, the matter power spectrum and the CMB.\n",
        "**This is a shared notebook. Please copy it and run it on google colab or your own laptop!**\n"
      ],
      "metadata": {
        "id": "0d2ZHJlhC03V"
      }
    },
    {
      "cell_type": "code",
      "execution_count": null,
      "metadata": {
        "id": "MCi01DIswlaD"
      },
      "outputs": [],
      "source": [
        "import sys, platform, os\n",
        "import matplotlib.pyplot as plt\n",
        "import numpy as np\n",
        "import scipy"
      ]
    },
    {
      "cell_type": "code",
      "execution_count": null,
      "metadata": {
        "id": "tKSNiFvrEUHY"
      },
      "outputs": [],
      "source": [
        "!pip install classy"
      ]
    },
    {
      "cell_type": "markdown",
      "metadata": {
        "id": "7Pr8KOvxRAFm"
      },
      "source": [
        "- Installing `classy` via pip has been enabled since v3, though is not 100% reliable yet (especially for Mac)\n"
      ]
    },
    {
      "cell_type": "markdown",
      "metadata": {
        "id": "F_-JHO8kKmoB"
      },
      "source": []
    },
    {
      "cell_type": "code",
      "execution_count": null,
      "metadata": {
        "id": "S5SRHVHsVeT2"
      },
      "outputs": [],
      "source": [
        "import classy\n",
        "print('Using CLASS %s installed at %s'%(classy.__version__,os.path.dirname(classy.__file__)))\n"
      ]
    },
    {
      "cell_type": "markdown",
      "metadata": {
        "id": "goUoCOxh_7k2"
      },
      "source": [
        "# Step 1 Compute the CMB and matter power spectrum in a universe with massless neutrinos. This will be our baseline.\n"
      ]
    },
    {
      "cell_type": "code",
      "execution_count": null,
      "metadata": {
        "id": "xnE5j-L0gh3-"
      },
      "outputs": [],
      "source": [
        "\n",
        "# create instance of the class \"Class\"\n",
        "LambdaCDM = classy.Class()\n",
        "# pass input parameters (from PlanckTTTEEE+lowE+lensing 1807.06209)\n",
        "LambdaCDM.set({'omega_b':0.02237,'omega_cdm':0.1200,'h':0.6736,'A_s':2.100e-9,'n_s':0.9649,'tau_reio':0.0544})\n",
        "LambdaCDM.set({'output':'tCl,pCl,lCl,mPk','lensing':'yes','P_k_max_1/Mpc':1.0})\n",
        "\n",
        "# run class\n",
        "LambdaCDM.compute()\n",
        "\n",
        "\n",
        "# In[ ]:"
      ]
    },
    {
      "cell_type": "markdown",
      "metadata": {
        "id": "u3dpb7qpjL7w"
      },
      "source": [
        "Let's extract some basic background quantities"
      ]
    },
    {
      "cell_type": "code",
      "execution_count": null,
      "metadata": {
        "id": "pRClFAC6Ebbq"
      },
      "outputs": [],
      "source": [
        "bg=LambdaCDM.get_background()\n",
        "bg.keys() ##let see all the things we can print"
      ]
    },
    {
      "cell_type": "markdown",
      "metadata": {
        "id": "nm9sYledR9SK"
      },
      "source": [
        "Let us, for example, plot energy densities"
      ]
    },
    {
      "cell_type": "code",
      "execution_count": null,
      "metadata": {
        "id": "YIEVvhK6YhxK"
      },
      "outputs": [],
      "source": [
        "\n",
        "opz = 1.+bg['z']\n",
        "plt.loglog(opz,bg['(.)rho_g']/opz**4,label=\"photons\")\n",
        "plt.loglog(opz,(bg['(.)rho_b']+bg['(.)rho_cdm'])/opz**4,label=\"matter\")\n",
        "plt.loglog(opz,bg['(.)rho_lambda']/opz**4,label=r\"$\\Lambda$\")\n",
        "plt.loglog(opz,bg['(.)rho_ur']/opz**4,label=\"massless neutrinos\")\n",
        "plt.legend()\n",
        "plt.xlabel(r\"Redshift 1+$z$\")\n",
        "plt.ylabel(r\"$8\\pi G/3 \\times \\rho~/~(1+z)^4$ [Mpc$^{-2}$]\")\n",
        "plt.show()"
      ]
    },
    {
      "cell_type": "markdown",
      "metadata": {
        "id": "mKt3uJ78jyyM"
      },
      "source": [
        "To better see the contribution from neutrinos let's plot ratios"
      ]
    },
    {
      "cell_type": "code",
      "execution_count": null,
      "metadata": {
        "id": "4BviGViijwKS"
      },
      "outputs": [],
      "source": [
        "opz = 1.+bg['z']\n",
        "plt.semilogx(opz,bg['(.)rho_g']/bg['(.)rho_crit'],label=\"photons\")\n",
        "plt.semilogx(opz,(bg['(.)rho_cdm']+bg['(.)rho_b'])/bg['(.)rho_crit'],label=\"matter\")\n",
        "plt.semilogx(opz,bg['(.)rho_lambda']/bg['(.)rho_crit'],label=r'$\\Lambda$')\n",
        "plt.semilogx(opz,bg['(.)rho_ur']/bg['(.)rho_crit'],label=\"massless neutrinos\")\n",
        "plt.legend()\n",
        "plt.xlim(1,1e8)\n",
        "plt.ylim(0,1)\n",
        "plt.xlabel(r\"Redshift 1+$z$\")\n",
        "plt.ylabel(r\"Fractional density $\\rho/\\rho_\\mathrm{crit}$\")\n",
        "plt.show()"
      ]
    },
    {
      "cell_type": "markdown",
      "metadata": {
        "id": "kwtuwPPSAyP9"
      },
      "source": [
        "Let's extract the CMB power spectrum and compare raw/lensed Cl's."
      ]
    },
    {
      "cell_type": "code",
      "execution_count": null,
      "metadata": {
        "id": "RwaVnaI0Ahi_"
      },
      "outputs": [],
      "source": [
        "\n",
        "# get all C_l output\n",
        "cls = LambdaCDM.lensed_cl(2500)\n",
        "cls_raw = LambdaCDM.raw_cl(2500)\n",
        "\n",
        "# To check the format of cls\n",
        "cls.keys()\n",
        "\n",
        "\n",
        "# In[ ]:\n",
        "\n",
        "\n",
        "ll = cls['ell'][2:]\n",
        "clTT = cls['tt'][2:]\n",
        "clEE = cls['ee'][2:]\n",
        "clPP = cls['pp'][2:]\n",
        "\n",
        "ll_raw = cls_raw['ell'][2:]\n",
        "clTT_raw = cls_raw['tt'][2:]\n",
        "clEE_raw = cls_raw['ee'][2:]\n",
        "\n",
        "print(clTT_raw)"
      ]
    },
    {
      "cell_type": "markdown",
      "metadata": {
        "id": "iCtwkYsGfBId"
      },
      "source": [
        "Let's download Planck TT data to compare our predicted power spectrum. We only download data for l > 30 for simplicty"
      ]
    },
    {
      "cell_type": "code",
      "execution_count": null,
      "metadata": {
        "id": "3RD5q2x6fATB"
      },
      "outputs": [],
      "source": [
        "import requests\n",
        "\n",
        "url = \"https://irsa.ipac.caltech.edu/data/Planck/release_3/ancillary-data/cosmoparams/COM_PowerSpect_CMB-TT-binned_R3.01.txt\"\n",
        "response = requests.get(url)\n",
        "\n",
        "# Save the file\n",
        "with open(\"COM_PowerSpect_CMB-TT-binned_R3.01.txt\", \"wb\") as f:\n",
        "    f.write(response.content)\n",
        "\n",
        "# Load the data into a numpy array\n",
        "obsdat_binned = np.loadtxt(\"COM_PowerSpect_CMB-TT-binned_R3.01.txt\").T\n",
        "\n",
        "# Display the first few rows of the array\n",
        "#print(obsdat_binned[0, :])"
      ]
    },
    {
      "cell_type": "markdown",
      "source": [
        "Let's plot the data\n"
      ],
      "metadata": {
        "id": "spIgy0ibMArg"
      }
    },
    {
      "cell_type": "code",
      "execution_count": null,
      "metadata": {
        "id": "i2wSZYwHeSGd"
      },
      "outputs": [],
      "source": [
        "import matplotlib.pyplot as plt\n",
        "from math import pi\n",
        "\n",
        "\n",
        "# In[ ]:\n",
        "\n",
        "\n",
        "# plot C_l^TT\n",
        "Tcmb=2.7255*1e6\n",
        "temp_factor=(Tcmb**2)\n",
        "plt.figure(1)\n",
        "plt.xscale('log');plt.yscale('linear');plt.xlim(2,2500)\n",
        "plt.xlabel(r'$\\ell$')\n",
        "plt.ylabel(r'$[\\ell(\\ell+1)/2\\pi]  C_\\ell^\\mathrm{TT}$')\n",
        "plt.plot(ll,clTT*ll*(ll+1)/2./pi*temp_factor,'r-')\n",
        "\n",
        "plt.errorbar(obsdat_binned[0], obsdat_binned[1], yerr=[obsdat_binned[2], obsdat_binned[3]], fmt='.')\n",
        "#plt.xlabel(\"Column 1\")\n",
        "#lt.ylabel(\"Column 2\")\n",
        "#plt.title(\"Plot of Column 1 vs Column 2 with Error Bars\")\n",
        "plt.show()"
      ]
    },
    {
      "cell_type": "markdown",
      "metadata": {
        "id": "lD8APnqlhZHv"
      },
      "source": [
        "Now let's compare with and without lensing"
      ]
    },
    {
      "cell_type": "code",
      "execution_count": null,
      "metadata": {
        "id": "MDV2rx9uhYFY"
      },
      "outputs": [],
      "source": [
        "# prompt: plot the ratio of ClTT and ClTT_raw\n",
        "\n",
        "# plot the ratio of ClTT and ClTT_raw\n",
        "plt.figure(2)\n",
        "plt.xscale('linear');plt.yscale('linear');plt.xlim(2,2500)\n",
        "plt.xlabel(r'$\\ell$')\n",
        "plt.ylabel(r'$\\Delta C_\\ell^\\mathrm{TT} / C_\\ell^\\mathrm{TT,raw}$')\n",
        "plt.plot(ll, clTT / clTT_raw-1, 'b-')\n",
        "plt.errorbar(obsdat_binned[0], (obsdat_binned[1]-obsdat_binned[4])/obsdat_binned[4], yerr=[obsdat_binned[2]/obsdat_binned[4], obsdat_binned[3]/obsdat_binned[4]], fmt='.', color='blue', ecolor='blue', capsize=3)\n",
        "plt.show()\n",
        "\n",
        "\n",
        "##lensing is really important!!\n"
      ]
    },
    {
      "cell_type": "markdown",
      "source": [
        "Let's look at the matter power spectrum, a key probe of neutrino physics\n"
      ],
      "metadata": {
        "id": "a5aC3RMdMtUn"
      }
    },
    {
      "cell_type": "code",
      "execution_count": null,
      "metadata": {
        "id": "LkJH_dmLlKCb"
      },
      "outputs": [],
      "source": [
        "\n",
        "ks = np.geomspace(1e-4,1,num=1000)\n",
        "pks =  LambdaCDM.get_pk_all(ks,z=0,nonlinear=False)\n",
        "\n",
        "plt.figure()\n",
        "\n",
        "plt.loglog(ks,pks,linestyle=\"solid\",label=r'$\\Lambda$CDM with massless neutrinos')\n",
        "\n",
        "plt.xlabel(\"Wavenumber $k$ [1/Mpc]\")\n",
        "plt.ylabel(\"Power spectrum $P(k)$ [Mpc${}^3$]\")\n",
        "plt.xlim(1e-4,1)\n",
        "plt.show()"
      ]
    },
    {
      "cell_type": "markdown",
      "metadata": {
        "id": "ZXkV3BlHRXeY"
      },
      "source": [
        "# Step 2: include massive neutrinos!\n",
        "#we will do 2 cosmologies, $\\sum$ $m_\\nu$ = 0.06 eV and 0.6eV."
      ]
    },
    {
      "cell_type": "code",
      "execution_count": null,
      "metadata": {
        "id": "J_X2IL6DQ_n6"
      },
      "outputs": [],
      "source": [
        "\n",
        "common_settings=({'omega_b':0.02237,'omega_cdm':0.1200,'h':0.6736,'A_s':2.100e-9,'n_s':0.9649,'tau_reio':0.0544,'output':'tCl,pCl,lCl,mPk','lensing':'yes','P_k_max_1/Mpc':1.0})\n",
        "\n",
        "##we assume 3 degenerate neutrinos in both cases\n",
        "\n",
        "mnu006eV = classy.Class()\n",
        "mnu006eV.set(common_settings)\n",
        "#mnu006eV.set({'m_ncdm':0.06,'N_ur':2.0307,'N_ncdm':1})\n",
        "mnu006eV.set({'m_ncdm':0.02,'N_ur':0.0043,'N_ncdm':1,'deg_ncdm':3})\n",
        "\n",
        "mnu006eV.set({'background_verbose':10})\n",
        "mnu006eV.compute()\n",
        "\n",
        "mnu06eV = classy.Class()\n",
        "mnu06eV.set(common_settings)\n",
        "mnu06eV.set({'background_verbose':10})\n",
        "mnu06eV.set({'m_ncdm':0.20,'N_ur':0.0043,'N_ncdm':1,'deg_ncdm':3})\n",
        "mnu06eV.compute()\n",
        "\n"
      ]
    },
    {
      "cell_type": "markdown",
      "metadata": {
        "id": "iY78fxnVrcZb"
      },
      "source": [
        "Let's plot the energy density of the massive neutrinos"
      ]
    },
    {
      "cell_type": "code",
      "execution_count": null,
      "metadata": {
        "id": "9XQxN3_ZrZmc"
      },
      "outputs": [],
      "source": [
        "opz = 1.+bg['z']\n",
        "bg006=mnu006eV.get_background()\n",
        "bg06=mnu06eV.get_background()\n",
        "\n",
        "plt.semilogx(opz,bg['(.)rho_g']/bg['(.)rho_crit'],label=\"photons\")\n",
        "plt.semilogx(opz,(bg['(.)rho_cdm']+bg['(.)rho_b'])/bg['(.)rho_crit'],label=\"matter\")\n",
        "plt.semilogx(opz,bg['(.)rho_lambda']/bg['(.)rho_crit'],label=r'$\\Lambda$')\n",
        "plt.semilogx(opz,bg['(.)rho_ur']/bg['(.)rho_crit'],label=\"massless neutrinos\")\n",
        "plt.semilogx(opz,bg006['(.)rho_ncdm[0]']/bg006['(.)rho_crit'],'k-.',label=r\"$\\sum m_\\nu = 0.06$ eV$\")\n",
        "plt.semilogx(opz,bg06['(.)rho_ncdm[0]']/bg06['(.)rho_crit'],'k--',label=r\"$\\sum m_\\nu = 0.6$ eV$\")\n",
        "\n",
        "\n",
        "plt.legend()\n",
        "plt.xlim(1,1e5)\n",
        "plt.ylim(0,0.1) #you can zoom in to see the small neutrino mass\n",
        "#plt.ylim(0,1)\n",
        "plt.xlabel(r\"Redshift 1+$z$\")\n",
        "plt.ylabel(r\"Fractional density $\\rho/\\rho_\\mathrm{crit}$\")\n",
        "plt.show()"
      ]
    },
    {
      "cell_type": "markdown",
      "metadata": {
        "id": "B0S9K4g61zKL"
      },
      "source": [
        "Let's look at the BAO\n"
      ]
    },
    {
      "cell_type": "code",
      "execution_count": null,
      "metadata": {
        "id": "9JR7ZvlCvHpG"
      },
      "outputs": [],
      "source": [
        "z_BAO=[0.51000000,0.70600000,0.93400000,1.32100000,1.48400000,2.33]\n",
        "DM_over_rd =[13.58758434,17.35069094,21.57563956,27.60085612,30.51190063,38.988973961958784]\n",
        "BAO_errors = [0.167,0.177,0.152,0.318,0.760,0.531]\n"
      ]
    },
    {
      "cell_type": "code",
      "execution_count": null,
      "metadata": {
        "id": "cZYdXyso1EYP"
      },
      "outputs": [],
      "source": [
        "# prompt: plot the data DM_over_rd normalized to the LambdaCDM prediction with their error bars\n",
        "\n",
        "# Calculate DM/rd for LambdaCDM for the given BAO redshifts\n",
        "DM_over_rd_lcdm = np.zeros_like(z_BAO)\n",
        "DM_over_rd_mnu006 = np.zeros_like(z_BAO)\n",
        "DM_over_rd_mnu06 = np.zeros_like(z_BAO)\n",
        "\n",
        "for i, z in enumerate(z_BAO):\n",
        "    # Calculate the comoving distance (DM)\n",
        "    DM_over_rd_lcdm[i] = LambdaCDM.comoving_distance(z) / LambdaCDM.rs_drag()\n",
        "    DM_over_rd_mnu006[i] = mnu006eV.comoving_distance(z) / mnu006eV.rs_drag()\n",
        "    DM_over_rd_mnu06[i] = mnu06eV.comoving_distance(z) / mnu06eV.rs_drag()\n",
        "\n",
        "# Normalize the data to the LambdaCDM prediction\n",
        "normalized_DM_over_rd = DM_over_rd / DM_over_rd_lcdm\n",
        "normalized_BAO_errors = BAO_errors / DM_over_rd_lcdm\n",
        "\n",
        "plt.figure()\n",
        "plt.errorbar(z_BAO, normalized_DM_over_rd, yerr=normalized_BAO_errors, fmt='o', label='BAO Data (Normalized)')\n",
        "plt.plot(z_BAO, DM_over_rd_mnu006/DM_over_rd_lcdm,  label=r'$\\sum m_\\nu = 0.06$ eV')\n",
        "plt.plot(z_BAO, DM_over_rd_mnu06/DM_over_rd_lcdm,   label=r'$\\sum m_\\nu = 0.6$ eV')\n",
        "\n",
        "plt.axhline(1, color='k', linestyle='--', label=r'$\\Lambda$CDM Prediction') # Add a line at 1 for the LambdaCDM reference\n",
        "plt.xlabel(\"Redshift z\")\n",
        "plt.ylabel(r\"$(D_M(z)/r_d) / (D_M^{\\Lambda CDM}(z)/r_d^{\\Lambda CDM})$\")\n",
        "plt.title(\"BAO Data normalized to $\\Lambda$CDM Prediction\")\n",
        "plt.legend()\n",
        "plt.grid(True)\n",
        "plt.show()"
      ]
    },
    {
      "cell_type": "markdown",
      "source": [
        "Let's look at the matter power spectrum and the famous suppression due to neutrino masses\n"
      ],
      "metadata": {
        "id": "bGrgjajc06r7"
      }
    },
    {
      "cell_type": "code",
      "execution_count": null,
      "metadata": {
        "id": "Fm4UP6p6prb4"
      },
      "outputs": [],
      "source": [
        "# prompt: print the ratio of the Pks for mnu006eV and mnu06eV with respect to LambdaCDM\n",
        "\n",
        "# get P(k) for the different models\n",
        "ks_mnu006eV = np.geomspace(1e-4, 1, num=1000)\n",
        "pks_mnu006eV = mnu006eV.get_pk_all(ks_mnu006eV, z=0, nonlinear=False)\n",
        "\n",
        "ks_mnu06eV = np.geomspace(1e-4, 1, num=1000)\n",
        "pks_mnu06eV = mnu06eV.get_pk_all(ks_mnu06eV, z=0, nonlinear=False)\n",
        "\n",
        "ks_LambdaCDM = np.geomspace(1e-4, 1, num=1000)\n",
        "pks_LambdaCDM = LambdaCDM.get_pk_all(ks_LambdaCDM, z=0, nonlinear=False)\n",
        "\n",
        "# plot the ratios\n",
        "plt.figure()\n",
        "plt.xscale('log')\n",
        "plt.yscale('linear')\n",
        "plt.xlabel(\"Wavenumber $k$ [1/Mpc]\")\n",
        "plt.ylabel(r\"$P(k) / P(k)_{\\Lambda\\mathrm{CDM}}$\")\n",
        "\n",
        "plt.plot(ks_mnu006eV, pks_mnu006eV / pks_LambdaCDM-1, label=r'$\\sum m_\\nu = 0.06$ eV')\n",
        "#plt.plot(ks_mnu06eV,-8 * mnu006eV.get_background()['(.)rho_ncdm[0]'][-1] / (mnu006eV.get_background()['(.)rho_cdm'][-1]+mnu06eV.get_background()['(.)rho_b'][-1])*ks_mnu06eV/ks_mnu06eV,'k--')\n",
        "\n",
        "plt.plot(ks_mnu06eV, pks_mnu06eV / pks_LambdaCDM-1, label=r'$\\sum m_\\nu = 0.6$ eV')\n",
        "#plt.plot(ks_mnu06eV,-8 * mnu06eV.get_background()['(.)rho_ncdm[0]'][-1] / (mnu06eV.get_background()['(.)rho_cdm'][-1]+mnu06eV.get_background()['(.)rho_b'][-1])*ks_mnu06eV/ks_mnu06eV,'k--')\n",
        "plt.legend()\n",
        "plt.xlim(1e-4, 1)\n",
        "plt.show()"
      ]
    },
    {
      "cell_type": "markdown",
      "source": [
        "Now let's look at the impact on the CMB with and without lensing\n"
      ],
      "metadata": {
        "id": "V34gQwAh1Ehi"
      }
    },
    {
      "cell_type": "code",
      "execution_count": null,
      "metadata": {
        "id": "bSSabsVp161i"
      },
      "outputs": [],
      "source": [
        "# prompt: plot the ratio of the CMB power spectrum for mnu006 eV and mnu06 eV with respect to LambdaCDM\n",
        "\n",
        "# Extract the CMB power spectra for each model\n",
        "cls_mnu006eV = mnu006eV.lensed_cl(2500)\n",
        "cls_mnu06eV = mnu06eV.lensed_cl(2500)\n",
        "cls_LambdaCDM = LambdaCDM.lensed_cl(2500)\n",
        "\n",
        "# Extract the TT power spectra\n",
        "clTT_mnu006eV = cls_mnu006eV['tt'][2:]\n",
        "clTT_mnu06eV = cls_mnu06eV['tt'][2:]\n",
        "clTT_LambdaCDM = cls_LambdaCDM['tt'][2:]\n",
        "\n",
        "# Extract the ell values (they should be the same for all models)\n",
        "ll = cls_LambdaCDM['ell'][2:]\n",
        "\n",
        "# Calculate the ratios\n",
        "ratio_mnu006eV_LambdaCDM = clTT_mnu006eV / clTT_LambdaCDM\n",
        "ratio_mnu06eV_LambdaCDM = clTT_mnu06eV / clTT_LambdaCDM\n",
        "\n",
        "# Plot the ratios\n",
        "plt.figure()\n",
        "plt.xscale('log')\n",
        "plt.yscale('linear')\n",
        "plt.xlabel(r'$\\ell$')\n",
        "plt.ylabel(r'$C_\\ell^\\mathrm{TT} / C_\\ell^\\mathrm{TT,\\Lambda CDM}$')\n",
        "\n",
        "plt.plot(ll, ratio_mnu006eV_LambdaCDM, label=r'$\\sum m_\\nu = 0.06$ eV')\n",
        "plt.plot(ll, ratio_mnu06eV_LambdaCDM, label=r'$\\sum m_\\nu = 0.6$ eV')\n",
        "\n",
        "plt.axhline(1, color='k', linestyle='--', label=r'$\\Lambda$CDM') # Add a line at 1 for the LambdaCDM reference\n",
        "plt.legend()\n",
        "plt.xlim(2, 2500)\n",
        "plt.title(\"Ratio of CMB TT Power Spectra relative to $\\Lambda$CDM\")\n",
        "plt.show()"
      ]
    },
    {
      "cell_type": "markdown",
      "metadata": {
        "id": "VBAe0WBs2GdA"
      },
      "source": [
        "# Step 3: use degeneracies in the CMB to compensate the effect of neutrinos\n",
        "\n"
      ]
    },
    {
      "cell_type": "markdown",
      "source": [
        "Now we fix the angular scale $\\theta_s=1.041$ in the CMB, it has been measured at 0.1% accuracy!\n"
      ],
      "metadata": {
        "id": "qolhcXNm1JSe"
      }
    },
    {
      "cell_type": "code",
      "source": [
        "\n",
        "common_settings=({'omega_b':0.02237,'omega_cdm':0.1200,'theta_s_100':1.04110,'A_s':2.100e-9,'n_s':0.9649,'tau_reio':0.0544,'output':'tCl,pCl,lCl,mPk','lensing':'yes','P_k_max_1/Mpc':1.0})\n",
        "\n",
        "##In the first case, assume 1 massive 2 massless\n",
        "LambdaCDM = classy.Class()\n",
        "LambdaCDM.set(common_settings)\n",
        "LambdaCDM.compute()\n",
        "##In the first case, assume 1 massive 2 massless\n",
        "mnu006eV = classy.Class()\n",
        "mnu006eV.set(common_settings)\n",
        "#mnu006eV.set({'m_ncdm':0.06,'N_ur':2.0307,'N_ncdm':1})\n",
        "mnu006eV.set({'m_ncdm':0.02,'N_ur':0.0043,'N_ncdm':1,'deg_ncdm':3})\n",
        "\n",
        "mnu006eV.compute()\n",
        "\n",
        "#In the 2nd case, assume 3 degenerate massive neutrinos\n",
        "mnu06eV = classy.Class()\n",
        "mnu06eV.set(common_settings)\n",
        "mnu06eV.set({'m_ncdm':0.20,'N_ur':0.0043,'N_ncdm':1,'deg_ncdm':3})\n",
        "mnu06eV.compute()\n",
        "\n"
      ],
      "metadata": {
        "id": "A2-zt63T4AQK"
      },
      "execution_count": null,
      "outputs": []
    },
    {
      "cell_type": "code",
      "source": [],
      "metadata": {
        "id": "VSamuAhig9s8"
      },
      "execution_count": null,
      "outputs": []
    },
    {
      "cell_type": "code",
      "source": [],
      "metadata": {
        "id": "cqFZ-aqQg99Z"
      },
      "execution_count": null,
      "outputs": []
    },
    {
      "cell_type": "code",
      "source": [
        "print(\"h:\",LambdaCDM.h(),mnu006eV.h(),mnu06eV.h())\n",
        "print(\"Omega_m:\",LambdaCDM.Omega_m(),mnu006eV.Omega_m(),mnu06eV.Omega_m())\n",
        "\n",
        "#we have exploited the degeneracy with H0 to keep the angular scale of the CMB fixed\n",
        "#This has also significantly changed Omega_m! Much larger than in LCDM"
      ],
      "metadata": {
        "id": "CrCY0J0z4XOb"
      },
      "execution_count": null,
      "outputs": []
    },
    {
      "cell_type": "code",
      "source": [
        "# prompt: plot the ratio of the CMB power spectrum for mnu006 eV and mnu06 eV with respect to LambdaCDM\n",
        "\n",
        "# Extract the CMB power spectra for each model\n",
        "cls_mnu006eV = mnu006eV.lensed_cl(2500)\n",
        "cls_mnu06eV = mnu06eV.lensed_cl(2500)\n",
        "cls_LambdaCDM = LambdaCDM.lensed_cl(2500)\n",
        "\n",
        "cls_mnu006eV_raw = mnu006eV.raw_cl(2500)\n",
        "cls_mnu06eV_raw = mnu06eV.raw_cl(2500)\n",
        "cls_LambdaCDM_raw = LambdaCDM.raw_cl(2500)\n",
        "# Extract the TT power spectra\n",
        "clTT_mnu006eV = cls_mnu006eV['tt'][2:]\n",
        "clTT_mnu06eV = cls_mnu06eV['tt'][2:]\n",
        "clTT_LambdaCDM = cls_LambdaCDM['tt'][2:]\n",
        "\n",
        "\n",
        "clTT_mnu006eV_raw = cls_mnu006eV_raw['tt'][2:]\n",
        "clTT_mnu06eV_raw = cls_mnu06eV_raw['tt'][2:]\n",
        "clTT_LambdaCDM_raw = cls_LambdaCDM_raw['tt'][2:]\n",
        "\n",
        "# Extract the ell values (they should be the same for all models)\n",
        "ll = cls_LambdaCDM['ell'][2:]\n",
        "\n",
        "# Calculate the ratios\n",
        "ratio_mnu006eV_LambdaCDM = clTT_mnu006eV / clTT_LambdaCDM\n",
        "ratio_mnu06eV_LambdaCDM = clTT_mnu06eV / clTT_LambdaCDM\n",
        "\n",
        "ratio_raw_mnu006eV_LambdaCDM = clTT_mnu006eV_raw / clTT_LambdaCDM_raw\n",
        "ratio_raw_mnu06eV_LambdaCDM = clTT_mnu06eV_raw / clTT_LambdaCDM_raw\n",
        "\n",
        "# Plot\n",
        "# Plot the ratios\n",
        "plt.figure()\n",
        "plt.xscale('log')\n",
        "plt.yscale('linear')\n",
        "plt.xlabel(r'$\\ell$')\n",
        "plt.ylabel(r'$C_\\ell^\\mathrm{TT} / C_\\ell^\\mathrm{TT,\\Lambda CDM}$')\n",
        "\n",
        "plt.plot(ll, ratio_mnu006eV_LambdaCDM,'b', label=r'$\\sum m_\\nu = 0.06$ eV (lensed)')\n",
        "plt.plot(ll, ratio_mnu06eV_LambdaCDM,'r', label=r'$\\sum m_\\nu = 0.6$ eV (lensed)')\n",
        "\n",
        "\n",
        "plt.plot(ll, ratio_raw_mnu006eV_LambdaCDM,'b--', label=r'$\\sum m_\\nu = 0.06$ eV (raw)')\n",
        "plt.plot(ll, ratio_raw_mnu06eV_LambdaCDM,'r--', label=r'$\\sum m_\\nu = 0.6$ eV (raw)')\n",
        "\n",
        "plt.axhline(1, color='k', linestyle='--', label=r'$\\Lambda$CDM') # Add a line at 1 for the LambdaCDM reference\n",
        "plt.legend()\n",
        "plt.xlim(2, 2500)\n",
        "plt.ylim(0.98,1.02)\n",
        "plt.title(\"Ratio of CMB TT Power Spectra relative to $\\Lambda$CDM\")\n",
        "plt.show()"
      ],
      "metadata": {
        "id": "MZcZfWH64rAU"
      },
      "execution_count": null,
      "outputs": []
    },
    {
      "cell_type": "code",
      "source": [
        "  # prompt: print the ratio of the Pks for mnu006eV and mnu06eV with respect to LambdaCDM\n",
        "\n",
        "# get P(k) for the different models\n",
        "ks_mnu006eV = np.geomspace(1e-4, 1, num=1000)\n",
        "pks_mnu006eV = mnu006eV.get_pk_all(ks_mnu006eV, z=0, nonlinear=False)\n",
        "\n",
        "ks_mnu06eV = np.geomspace(1e-4, 1, num=1000)\n",
        "pks_mnu06eV = mnu06eV.get_pk_all(ks_mnu06eV, z=0, nonlinear=False)\n",
        "\n",
        "ks_LambdaCDM = np.geomspace(1e-4, 1, num=1000)\n",
        "pks_LambdaCDM = LambdaCDM.get_pk_all(ks_LambdaCDM, z=0, nonlinear=False)\n",
        "\n",
        "# plot the ratios\n",
        "plt.figure()\n",
        "plt.xscale('log')\n",
        "plt.yscale('linear')\n",
        "plt.xlabel(\"Wavenumber $k$ [1/Mpc]\")\n",
        "plt.ylabel(r\"$P(k) / P(k)_{\\Lambda\\mathrm{CDM}}$\")\n",
        "\n",
        "plt.plot(ks_mnu006eV, pks_mnu006eV / pks_LambdaCDM-1, label=r'$\\sum m_\\nu = 0.06$ eV')\n",
        "#plt.plot(ks_mnu06eV,-8 * mnu006eV.get_background()['(.)rho_ncdm[0]'][-1] / (mnu006eV.get_background()['(.)rho_cdm'][-1]+mnu06eV.get_background()['(.)rho_b'][-1])*ks_mnu06eV/ks_mnu06eV,'k--')\n",
        "\n",
        "plt.plot(ks_mnu06eV, pks_mnu06eV / pks_LambdaCDM-1, label=r'$\\sum m_\\nu = 0.6$ eV')\n",
        "#plt.plot(ks_mnu06eV,-8 * mnu06eV.get_background()['(.)rho_ncdm[0]'][-1] / (mnu06eV.get_background()['(.)rho_cdm'][-1]+mnu06eV.get_background()['(.)rho_b'][-1])*ks_mnu06eV/ks_mnu06eV,'k--')\n",
        "plt.legend()\n",
        "plt.xlim(1e-4, 1)\n",
        "plt.show()"
      ],
      "metadata": {
        "id": "VQg9xKrd435z"
      },
      "execution_count": null,
      "outputs": []
    },
    {
      "cell_type": "code",
      "source": [
        "# prompt: plot the data DM_over_rd normalized to the LambdaCDM prediction with their error bars\n",
        "\n",
        "# Calculate DM/rd for LambdaCDM for the given BAO redshifts\n",
        "DM_over_rd_lcdm = np.zeros_like(z_BAO)\n",
        "DM_over_rd_mnu006 = np.zeros_like(z_BAO)\n",
        "DM_over_rd_mnu06 = np.zeros_like(z_BAO)\n",
        "\n",
        "for i, z in enumerate(z_BAO):\n",
        "    # Calculate the comoving distance (DM)\n",
        "    DM_over_rd_lcdm[i] = LambdaCDM.comoving_distance(z) / LambdaCDM.rs_drag()\n",
        "    DM_over_rd_mnu006[i] = mnu006eV.comoving_distance(z) / mnu006eV.rs_drag()\n",
        "    DM_over_rd_mnu06[i] = mnu06eV.comoving_distance(z) / mnu06eV.rs_drag()\n",
        "\n",
        "# Normalize the data to the LambdaCDM prediction\n",
        "normalized_DM_over_rd = DM_over_rd / DM_over_rd_lcdm\n",
        "normalized_BAO_errors = BAO_errors / DM_over_rd_lcdm\n",
        "\n",
        "plt.figure()\n",
        "plt.errorbar(z_BAO, normalized_DM_over_rd, yerr=normalized_BAO_errors, fmt='o', label='BAO Data (Normalized)')\n",
        "plt.plot(z_BAO, DM_over_rd_mnu006/DM_over_rd_lcdm,  label=r'$\\sum m_\\nu = 0.06$ eV')\n",
        "plt.plot(z_BAO, DM_over_rd_mnu06/DM_over_rd_lcdm,   label=r'$\\sum m_\\nu = 0.6$ eV')\n",
        "\n",
        "plt.axhline(1, color='k', linestyle='--', label=r'$\\Lambda$CDM Prediction') # Add a line at 1 for the LambdaCDM reference\n",
        "plt.xlabel(\"Redshift z\")\n",
        "plt.ylabel(r\"$(D_M(z)/r_d) / (D_M^{\\Lambda CDM}(z)/r_d^{\\Lambda CDM})$\")\n",
        "plt.title(\"BAO Data normalized to $\\Lambda$CDM Prediction\")\n",
        "plt.legend()\n",
        "plt.grid(True)\n",
        "plt.show()\n",
        "\n"
      ],
      "metadata": {
        "id": "tCJ1Km6A57ZQ"
      },
      "execution_count": null,
      "outputs": []
    },
    {
      "cell_type": "markdown",
      "source": [
        "# Conclusions\n",
        "The combination of BAO and SN1a excludes even small neutrino masses: it goes opposite to what BAO wants. Negative neutrinos?\n",
        "\n",
        "Next:\n",
        "i) play with dynamical dark energy  (w0wa) to compensate the effect of neutrinos at late-time.\n",
        "\n",
        "ii) show the impact of the hierarchy of neutrino masses on the matter power spectrum. Can we measure it with future surveys?"
      ],
      "metadata": {
        "id": "gjyOiwq36wD3"
      }
    },
    {
      "cell_type": "markdown",
      "source": [
        "# Effects of Neff on the CMB\n",
        "we will compute it in 3 steps: first fixing H0, then fixing $\\theta_s$, finally also fixing the matter-radiation equality redshift $1+z_{\\rm eq}=\\omega_m/\\omega_r$\n",
        "\n"
      ],
      "metadata": {
        "id": "gvh5RkSOjMAT"
      }
    },
    {
      "cell_type": "code",
      "source": [
        "# prompt: show me the effect of N_ur =3.5 and N_ur = 4 in the CMB normalized to the LambdaCDM model\n",
        "\n",
        "# Now let's look at the impact on the CMB  for N_ur = 3.5 and N_ur = 4\n",
        "common_settings=({'omega_b':0.02237,'omega_cdm':0.1200,'h':0.6736,'A_s':2.100e-9,'n_s':0.9649,'tau_reio':0.0544,'output':'tCl,pCl,lCl,mPk','lensing':'yes','P_k_max_1/Mpc':1.0})\n",
        "LambdaCDM = classy.Class()\n",
        "LambdaCDM.set(common_settings)\n",
        "LambdaCDM.compute()\n",
        "\n",
        "# Create CLASS instances for N_ur = 3.5 and N_ur = 4\n",
        "nu_35 = classy.Class()\n",
        "nu_35.set(common_settings)\n",
        "nu_35.set({'N_ur':3.5})\n",
        "nu_35.compute()\n",
        "\n",
        "nu_4 = classy.Class()\n",
        "nu_4.set(common_settings)\n",
        "nu_4.set({'N_ur':4.0})\n",
        "nu_4.compute()\n",
        "\n",
        "\n",
        "# Extract the CMB power spectra for each model\n",
        "cls_nu_35 = nu_35.lensed_cl(2500)\n",
        "cls_nu_4 = nu_4.lensed_cl(2500)\n",
        "cls_LambdaCDM = LambdaCDM.lensed_cl(2500)\n",
        "\n",
        "# Extract the TT power spectra\n",
        "clTT_nu_35 = cls_nu_35['tt'][2:]\n",
        "clTT_nu_4 = cls_nu_4['tt'][2:]\n",
        "clTT_LambdaCDM = cls_LambdaCDM['tt'][2:]\n",
        "\n",
        "# Extract the ell values (they should be the same for all models)\n",
        "ll = cls_LambdaCDM['ell'][2:]\n",
        "\n",
        "\n",
        "# Plot the ratios\n",
        "plt.figure()\n",
        "plt.xscale('log')\n",
        "plt.yscale('linear')\n",
        "plt.xlabel(r'$\\ell$')\n",
        "plt.ylabel(r'$C_\\ell^\\mathrm{TT} / C_\\ell^\\mathrm{TT,\\Lambda CDM}$')\n",
        "import matplotlib.pyplot as plt\n",
        "from math import pi\n",
        "\n",
        "\n",
        "# In[ ]:\n",
        "\n",
        "\n",
        "# plot C_l^TT\n",
        "Tcmb=2.7255*1e6\n",
        "temp_factor=(Tcmb**2)\n",
        "plt.figure(1)\n",
        "plt.xscale('linear');plt.yscale('linear');plt.xlim(2,2500)\n",
        "plt.xlabel(r'$\\ell$')\n",
        "plt.ylabel(r'$[\\ell(\\ell+1)/2\\pi]  C_\\ell^\\mathrm{TT}$')\n",
        "plt.plot(ll,clTT_LambdaCDM*ll*(ll+1)/2./pi*temp_factor,'r-')\n",
        "\n",
        "plt.errorbar(obsdat_binned[0], obsdat_binned[1], yerr=[obsdat_binned[2], obsdat_binned[3]], fmt='.')\n",
        "plt.plot(ll, clTT_nu_35*ll*(ll+1)/2./pi*temp_factor, label=r'$N_\\mathrm{ur} = 3.5$')\n",
        "plt.plot(ll, clTT_nu_4*ll*(ll+1)/2./pi*temp_factor, label=r'$N_\\mathrm{ur} = 4.0$')\n",
        "\n",
        "\n",
        "#plt.axhline(1, color='k', linestyle='--', label=r'$\\Lambda$CDM ($N_\\mathrm{ur}=3.046$)') # Add a line at 1 for the LambdaCDM reference\n",
        "plt.legend()\n",
        "plt.xlim(2, 2500)\n",
        "# plt.ylim(0.98,1.02)\n",
        "plt.title(\" CMB TT Power Spectra for different $N_\\mathrm{ur}$\")\n",
        "plt.show()"
      ],
      "metadata": {
        "id": "kfICjfsJfkq0"
      },
      "execution_count": null,
      "outputs": []
    },
    {
      "cell_type": "code",
      "source": [
        "# prompt: show me the effect of N_ur =3.5 and N_ur = 4 in the CMB normalized to the LambdaCDM model\n",
        "\n",
        "# Extract the ell values (they should be the same for all models)\n",
        "ll = cls_LambdaCDM['ell'][2:]\n",
        "\n",
        "# Calculate the ratios\n",
        "ratio_nu_35_LambdaCDM = clTT_nu_35 / clTT_LambdaCDM\n",
        "ratio_nu_4_LambdaCDM = clTT_nu_4 / clTT_LambdaCDM\n",
        "\n",
        "\n",
        "# Plot the ratios\n",
        "plt.figure()\n",
        "plt.xscale('linear')\n",
        "plt.yscale('linear')\n",
        "plt.xlabel(r'$\\ell$')\n",
        "plt.ylabel(r'$C_\\ell^\\mathrm{TT} / C_\\ell^\\mathrm{TT,\\Lambda CDM}$')\n",
        "\n",
        "plt.plot(ll, ratio_nu_35_LambdaCDM-1, label=r'$N_\\mathrm{ur} = 3.5$')\n",
        "plt.plot(ll, ratio_nu_4_LambdaCDM-1, label=r'$N_\\mathrm{ur} = 4.0$')\n",
        "\n",
        "#plt.axhline(1, color='k', linestyle='--', label=r'$\\Lambda$CDM ($N_\\mathrm{ur}=3.046$)') # Add a line at 1 for the LambdaCDM reference\n",
        "plt.legend()\n",
        "plt.xlim(2, 2500)\n",
        "# plt.ylim(0.98,1.02)\n",
        "plt.errorbar(obsdat_binned[0], (obsdat_binned[1]-obsdat_binned[4])/obsdat_binned[4], yerr=[obsdat_binned[2]/obsdat_binned[4], obsdat_binned[3]/obsdat_binned[4]], fmt='.', color='blue', ecolor='blue', capsize=3)\n",
        "\n",
        "plt.title(\"Ratio of CMB TT Power Spectra relative to $\\Lambda$CDM for different $N_\\mathrm{ur}$\")\n",
        "plt.show()"
      ],
      "metadata": {
        "id": "UoOBnD8RhGbN"
      },
      "execution_count": null,
      "outputs": []
    },
    {
      "cell_type": "code",
      "source": [
        "# prompt: show me the effect of N_ur =3.5 and N_ur = 4 in the CMB normalized to the LambdaCDM model\n",
        "\n",
        "# Now let's look at the impact on the CMB for N_ur = 3.5 and N_ur = 4\n",
        "common_settings=({'omega_b':0.02237,'omega_cdm':0.1200,'theta_s_100':1.0411,'A_s':2.100e-9,'n_s':0.9649,'tau_reio':0.0544,'output':'tCl,pCl,lCl,mPk','lensing':'yes','P_k_max_1/Mpc':1.0})\n",
        "LambdaCDM = classy.Class()\n",
        "LambdaCDM.set(common_settings)\n",
        "LambdaCDM.compute()\n",
        "\n",
        "# Create CLASS instances for N_ur = 3.5 and N_ur = 4\n",
        "nu_35 = classy.Class()\n",
        "nu_35.set(common_settings)\n",
        "nu_35.set({'N_ur':3.5})\n",
        "nu_35.compute()\n",
        "\n",
        "nu_4 = classy.Class()\n",
        "nu_4.set(common_settings)\n",
        "nu_4.set({'N_ur':4.0})\n",
        "nu_4.compute()\n",
        "\n",
        "\n",
        "# Extract the CMB power spectra for each model\n",
        "cls_nu_35 = nu_35.lensed_cl(2500)\n",
        "cls_nu_4 = nu_4.lensed_cl(2500)\n",
        "cls_LambdaCDM = LambdaCDM.lensed_cl(2500)\n",
        "\n",
        "# Extract the TT power spectra\n",
        "clTT_nu_35 = cls_nu_35['tt'][2:]\n",
        "clTT_nu_4 = cls_nu_4['tt'][2:]\n",
        "clTT_LambdaCDM = cls_LambdaCDM['tt'][2:]\n",
        "\n",
        "# Extract the ell values (they should be the same for all models)\n",
        "ll = cls_LambdaCDM['ell'][2:]\n",
        "\n",
        "# Calculate the ratios\n",
        "ratio_nu_35_LambdaCDM = clTT_nu_35 / clTT_LambdaCDM\n",
        "ratio_nu_4_LambdaCDM = clTT_nu_4 / clTT_LambdaCDM\n",
        "\n",
        "\n",
        "# Plot the ratios\n",
        "plt.figure()\n",
        "plt.xscale('linear')\n",
        "plt.yscale('linear')\n",
        "plt.xlabel(r'$\\ell$')\n",
        "plt.ylabel(r'$C_\\ell^\\mathrm{TT} / C_\\ell^\\mathrm{TT,\\Lambda CDM}$')\n",
        "\n",
        "plt.plot(ll, ratio_nu_35_LambdaCDM-1, label=r'$N_\\mathrm{ur} = 3.5$')\n",
        "plt.plot(ll, ratio_nu_4_LambdaCDM-1, label=r'$N_\\mathrm{ur} = 4.0$')\n",
        "\n",
        "#plt.axhline(1, color='k', linestyle='--', label=r'$\\Lambda$CDM ($N_\\mathrm{ur}=3.046$)') # Add a line at 1 for the LambdaCDM reference\n",
        "plt.legend()\n",
        "plt.xlim(2, 2500)\n",
        "# plt.ylim(0.98,1.02)\n",
        "plt.errorbar(obsdat_binned[0], (obsdat_binned[1]-obsdat_binned[4])/obsdat_binned[4], yerr=[obsdat_binned[2]/obsdat_binned[4], obsdat_binned[3]/obsdat_binned[4]], fmt='.', color='blue', ecolor='blue', capsize=3)\n",
        "\n",
        "plt.title(r\"Ratio of CMB TT Power Spectra relative to $\\Lambda$CDM for different $N_\\mathrm{ur}$ / fix $\\ theta_s$ \")\n",
        "plt.show()"
      ],
      "metadata": {
        "id": "nIJQCLxdii6G"
      },
      "execution_count": null,
      "outputs": []
    },
    {
      "cell_type": "code",
      "source": [
        "# prompt: show me the effect of N_ur =3.5 and N_ur = 4 in the CMB normalized to the LambdaCDM model\n",
        "\n",
        "# Now let's look at the impact on the CMB for N_ur = 3.5 and N_ur = 4\n",
        "common_settings=({'omega_b':0.02237,'omega_cdm':0.1200,'theta_s_100':1.0411,'A_s':2.100e-9,'n_s':0.9649,'tau_reio':0.0544,'output':'tCl,pCl,lCl,mPk','lensing':'yes','P_k_max_1/Mpc':1.0})\n",
        "LambdaCDM = classy.Class()\n",
        "LambdaCDM.set(common_settings)\n",
        "LambdaCDM.compute()\n",
        "\n",
        "# Create CLASS instances for N_ur = 3.5 and N_ur = 4\n",
        "nu_35 = classy.Class()\n",
        "nu_35.set(common_settings)\n",
        "nu_35.set({'N_ur':3.5,'omega_cdm':0.1200*(1+0.2271*3.5)/(1+0.2271*3)})\n",
        "nu_35.compute()\n",
        "\n",
        "nu_4 = classy.Class()\n",
        "nu_4.set(common_settings)\n",
        "nu_4.set({'N_ur':4.0,'omega_cdm':0.1200*(1+0.2271*4)/(1+0.2271*3)})\n",
        "nu_4.compute()\n",
        "\n",
        "\n",
        "# Extract the CMB power spectra for each model\n",
        "cls_nu_35 = nu_35.lensed_cl(2500)\n",
        "cls_nu_4 = nu_4.lensed_cl(2500)\n",
        "cls_LambdaCDM = LambdaCDM.lensed_cl(2500)\n",
        "\n",
        "# Extract the TT power spectra\n",
        "clTT_nu_35 = cls_nu_35['tt'][2:]\n",
        "clTT_nu_4 = cls_nu_4['tt'][2:]\n",
        "clTT_LambdaCDM = cls_LambdaCDM['tt'][2:]\n",
        "\n",
        "# Extract the ell values (they should be the same for all models)\n",
        "ll = cls_LambdaCDM['ell'][2:]\n",
        "\n",
        "# Calculate the ratios\n",
        "ratio_nu_35_LambdaCDM = clTT_nu_35 / clTT_LambdaCDM\n",
        "ratio_nu_4_LambdaCDM = clTT_nu_4 / clTT_LambdaCDM\n",
        "\n",
        "\n",
        "# Plot the ratios\n",
        "plt.figure()\n",
        "plt.xscale('log')\n",
        "plt.yscale('linear')\n",
        "plt.xlabel(r'$\\ell$')\n",
        "plt.ylabel(r'$C_\\ell^\\mathrm{TT} / C_\\ell^\\mathrm{TT,\\Lambda CDM}$')\n",
        "\n",
        "plt.plot(ll, ratio_nu_35_LambdaCDM-1, label=r'$N_\\mathrm{ur} = 3.5$')\n",
        "plt.plot(ll, ratio_nu_4_LambdaCDM-1, label=r'$N_\\mathrm{ur} = 4.0$')\n",
        "\n",
        "#plt.axhline(1, color='k', linestyle='--', label=r'$\\Lambda$CDM ($N_\\mathrm{ur}=3.046$)') # Add a line at 1 for the LambdaCDM reference\n",
        "plt.legend()\n",
        "plt.xlim(2, 2500)\n",
        "# plt.ylim(0.98,1.02)\n",
        "plt.errorbar(obsdat_binned[0], (obsdat_binned[1]-obsdat_binned[4])/obsdat_binned[4], yerr=[obsdat_binned[2]/obsdat_binned[4], obsdat_binned[3]/obsdat_binned[4]], fmt='.', color='blue', ecolor='blue', capsize=3)\n",
        "\n",
        "plt.title(r\"Ratio of CMB TT Power Spectra relative to $\\Lambda$CDM for different $N_\\mathrm{ur}$ / fix $\\theta_s,z_{eq}$ \")\n",
        "plt.show()"
      ],
      "metadata": {
        "id": "bildErQJjiAQ"
      },
      "execution_count": null,
      "outputs": []
    },
    {
      "cell_type": "markdown",
      "source": [
        "The remaining effect is the \"true\" effect of Neff, i.e., that which cannot be absorbed by rescaling some other cosmological parameters\n"
      ],
      "metadata": {
        "id": "xyxVsQ58kVuu"
      }
    }
  ],
  "metadata": {
    "colab": {
      "provenance": [],
      "toc_visible": true,
      "private_outputs": true,
      "include_colab_link": true
    },
    "kernelspec": {
      "display_name": "Python 3",
      "name": "python3"
    },
    "language_info": {
      "name": "python"
    }
  },
  "nbformat": 4,
  "nbformat_minor": 0
}